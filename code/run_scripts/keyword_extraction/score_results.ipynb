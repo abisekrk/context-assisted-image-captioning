{
 "cells": [
  {
   "cell_type": "code",
   "execution_count": 35,
   "metadata": {},
   "outputs": [],
   "source": [
    "import pandas as pd\n",
    "import numpy as np\n",
    "import json\n",
    "from tqdm import tqdm"
   ]
  },
  {
   "cell_type": "code",
   "execution_count": 36,
   "metadata": {},
   "outputs": [],
   "source": [
    "with open(\"/research/OFA/results/keyword_extraction/3_task_pretrained/test_predict.json\", \"r\") as outfile:\n",
    "    predicted_data = json.load(outfile)\n"
   ]
  },
  {
   "cell_type": "code",
   "execution_count": 37,
   "metadata": {},
   "outputs": [
    {
     "name": "stdout",
     "output_type": "stream",
     "text": [
      "boj abenomics economics weak yen\n",
      "japan bank of japan economic conditions and trends\n"
     ]
    }
   ],
   "source": [
    "true_keywords = predicted_data[2]['ref'].replace(\";\", \" \")\n",
    "pred_keywords = predicted_data[2]['hyp'].replace(\";\", \" \")\n",
    "print(true_keywords)\n",
    "print(pred_keywords)"
   ]
  },
  {
   "cell_type": "code",
   "execution_count": 38,
   "metadata": {},
   "outputs": [],
   "source": [
    "from nltk.stem.snowball import SnowballStemmer as Stemmer\n",
    "import spacy\n",
    "nlp = spacy.load(\"en_core_web_lg\")\n"
   ]
  },
  {
   "cell_type": "code",
   "execution_count": 39,
   "metadata": {},
   "outputs": [],
   "source": [
    "# print(true_keywords)\n",
    "# print(nlp(true_keywords))\n",
    "# print(pred_keywords)\n",
    "# print(nlp(pred_keywords))\n",
    "def stem_and_tokenize(keywords):\n",
    "    tokens = [token.text for token in nlp(keywords)]\n",
    "    # print(tokens)\n",
    "    stems = [Stemmer('porter').stem(tok.lower()) for tok in tokens]\n",
    "    # print(stems)\n",
    "    return stems\n",
    "true_tokens = stem_and_tokenize(true_keywords)\n",
    "pred_tokens = stem_and_tokenize(pred_keywords)\n"
   ]
  },
  {
   "cell_type": "code",
   "execution_count": 40,
   "metadata": {},
   "outputs": [],
   "source": [
    "def evaluate(top_N_keyphrases, references, cutoff=10):\n",
    "    P = len(set(top_N_keyphrases[:cutoff]) & set(references)) / len(top_N_keyphrases[:cutoff])\n",
    "    R = len(set(top_N_keyphrases[:cutoff]) & set(references)) / len(references)\n",
    "    F = (2*P*R)/(P+R) if (P+R) > 0 else 0 \n",
    "    return (P, R, F)"
   ]
  },
  {
   "cell_type": "code",
   "execution_count": 22,
   "metadata": {},
   "outputs": [
    {
     "name": "stdout",
     "output_type": "stream",
     "text": [
      "(0.125, 0.2, 0.15384615384615385)\n"
     ]
    }
   ],
   "source": [
    "res = evaluate(pred_tokens,true_tokens)\n",
    "print(res)"
   ]
  },
  {
   "cell_type": "code",
   "execution_count": 41,
   "metadata": {},
   "outputs": [
    {
     "name": "stderr",
     "output_type": "stream",
     "text": [
      "100%|██████████| 19999/19999 [03:43<00:00, 89.46it/s] \n"
     ]
    },
    {
     "name": "stdout",
     "output_type": "stream",
     "text": [
      "0.49949277225766026 0.3794409478575097 0.4062643511633774\n"
     ]
    }
   ],
   "source": [
    "scores = []\n",
    "for i in tqdm(range(0, len(predicted_data))):\n",
    "    true_keywords = predicted_data[i]['ref'].replace(\";\", \" \")\n",
    "    pred_keywords = predicted_data[i]['hyp'].replace(\";\", \" \")\n",
    "    true_tokens = stem_and_tokenize(true_keywords)\n",
    "    pred_tokens = stem_and_tokenize(pred_keywords)\n",
    "    result = evaluate(pred_tokens,true_tokens)\n",
    "    scores.append(result)\n",
    "\n",
    "\n",
    "P, R, F = np.mean(scores, axis=0)\n",
    "print(P, R, F)"
   ]
  }
 ],
 "metadata": {
  "kernelspec": {
   "display_name": "base",
   "language": "python",
   "name": "python3"
  },
  "language_info": {
   "codemirror_mode": {
    "name": "ipython",
    "version": 3
   },
   "file_extension": ".py",
   "mimetype": "text/x-python",
   "name": "python",
   "nbconvert_exporter": "python",
   "pygments_lexer": "ipython3",
   "version": "3.7.13"
  },
  "orig_nbformat": 4,
  "vscode": {
   "interpreter": {
    "hash": "d4d1e4263499bec80672ea0156c357c1ee493ec2b1c70f0acce89fc37c4a6abe"
   }
  }
 },
 "nbformat": 4,
 "nbformat_minor": 2
}
