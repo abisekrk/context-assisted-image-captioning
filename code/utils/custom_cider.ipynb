{
 "cells": [
  {
   "cell_type": "code",
   "execution_count": 4,
   "metadata": {},
   "outputs": [],
   "source": [
    "from dataclasses import dataclass, field\n",
    "import json\n",
    "import logging\n",
    "from typing import Optional\n",
    "from argparse import Namespace\n",
    "from itertools import zip_longest\n",
    "from collections import OrderedDict\n",
    "\n",
    "import numpy as np\n",
    "import sacrebleu\n",
    "import string\n",
    "from fairseq import metrics, utils\n",
    "from fairseq.tasks import register_task\n",
    "from cider.pyciderevalcap.ciderD.ciderD import CiderD"
   ]
  },
  {
   "cell_type": "code",
   "execution_count": 5,
   "metadata": {},
   "outputs": [],
   "source": [
    "CiderD_scorer = CiderD(df='/home/development/abisekrk/Research/OFA/dataset/context_caption_data/cider_cached_tokens/valid-words.p')"
   ]
  },
  {
   "cell_type": "code",
   "execution_count": null,
   "metadata": {},
   "outputs": [],
   "source": [
    "def calculate_cider_scores(self, gen_res, gt_res):\n",
    "    '''\n",
    "    gen_res: generated captions, list of str\n",
    "    gt_idx: list of int, of the same length as gen_res\n",
    "    gt_res: ground truth captions, list of list of str.\n",
    "        gen_res[i] corresponds to gt_res[gt_idx[i]]\n",
    "        Each image can have multiple ground truth captions\n",
    "    '''\n",
    "    gen_res_size = len(gen_res)\n",
    "\n",
    "    res = OrderedDict()\n",
    "    for i in range(gen_res_size):\n",
    "        res[i] = [gen_res[i].strip()]\n",
    "\n",
    "    gts = OrderedDict()\n",
    "    gt_res_ = [\n",
    "        [gt_res[i][j].strip() for j in range(len(gt_res[i]))]\n",
    "        for i in range(len(gt_res))\n",
    "    ]\n",
    "    for i in range(gen_res_size):\n",
    "        gts[i] = gt_res_[i]\n",
    "\n",
    "    res_ = [{'image_id': i, 'caption': res[i]} for i in range(len(res))]\n",
    "    _, scores = self.CiderD_scorer.compute_score(gts, res_)\n",
    "    return scores"
   ]
  }
 ],
 "metadata": {
  "kernelspec": {
   "display_name": "Python 3.10.4 ('ofa')",
   "language": "python",
   "name": "python3"
  },
  "language_info": {
   "codemirror_mode": {
    "name": "ipython",
    "version": 3
   },
   "file_extension": ".py",
   "mimetype": "text/x-python",
   "name": "python",
   "nbconvert_exporter": "python",
   "pygments_lexer": "ipython3",
   "version": "3.10.4"
  },
  "orig_nbformat": 4,
  "vscode": {
   "interpreter": {
    "hash": "8d8f3bca33e424480d181eda5c9ebd5dc2566d4444c7b8e9d8e0a715d77dd1ff"
   }
  }
 },
 "nbformat": 4,
 "nbformat_minor": 2
}
